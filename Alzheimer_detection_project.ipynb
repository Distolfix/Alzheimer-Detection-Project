{
  "nbformat": 4,
  "nbformat_minor": 0,
  "metadata": {
    "colab": {
      "provenance": [],
      "authorship_tag": "ABX9TyOpsxTZoiLNM56JJOKqrvZ6"
    },
    "kernelspec": {
      "name": "python3",
      "display_name": "Python 3"
    },
    "language_info": {
      "name": "python"
    }
  },
  "cells": [
    {
      "cell_type": "code",
      "source": [
        "from google.colab import drive\n",
        "drive.mount('/content/drive')"
      ],
      "metadata": {
        "colab": {
          "base_uri": "https://localhost:8080/"
        },
        "id": "ZCsYyrerwr_M",
        "outputId": "02d04870-6677-4892-8b6b-95cd6ab447e0"
      },
      "execution_count": 2,
      "outputs": [
        {
          "output_type": "stream",
          "name": "stdout",
          "text": [
            "Mounted at /content/drive\n"
          ]
        }
      ]
    },
    {
      "cell_type": "markdown",
      "source": [
        "# **SUL DATASET**\n",
        "\n",
        "Il dataset è una versione pre-processata del dataset **OASIS Alzheimer's Detection** (un dataset di immagini MRI del cervello di 461 pazienti) utilizzato per rilevare i segni precoci dell’Alzheimer.\n",
        "\n",
        "Poiché le immagini MRI sono 3D, sono state divise lungo l'asse z (l'asse della profondità del cervello) in 175 fette e sono state selezionate le fette che vanno dalla 55 esima alla 124 esima al fine di ridurre il numero di immagini e concentrarsi sulle sezioni cerebrali rilevanti per l'analisi della demenza; Questo approccio ha generato immagini 2D per ogni paziente.\n",
        "\n",
        "Lo stesso approccio è stato utilizzato per le versioni delle MRI con segmentazione delle aree cerebrali offerte da OASIS.\n",
        "\n",
        "****\n",
        "****\n",
        "\n",
        "Le immagini sono classificate in **quattro sottoclassi**, in base alla progressione della malattia:\n",
        "\n",
        "*   Moderate dementia (affetto da demenza)\n",
        "\n",
        "*   Very mild dementia (affetto da demenza molto lieve)\n",
        "* Mild dementia (affetto da demenza lieve)\n",
        "* Non-demented (non affetto da demenza)\n",
        "\n",
        "\n",
        "*La classificazione dei pazienti è stata effettuata sulla base delle valutazioni CDR (Clinical Dementia Rating), un punteggio che valuta la severità della demenza.*\n",
        "\n"
      ],
      "metadata": {
        "id": "zYlWqrb12XR7"
      }
    },
    {
      "cell_type": "code",
      "source": [
        "#estrazione dataset\n",
        "import zipfile\n",
        "import os\n",
        "\n",
        "zip_path = \"/content/drive/My Drive/Alzheimer-detection-project/oasis 1.zip\"\n",
        "extract_folder = \"/content/Alzheimer-detection-project\"\n",
        "\n",
        "os.makedirs(extract_folder, exist_ok=True)\n",
        "with zipfile.ZipFile(zip_path, 'r') as zip_ref:\n",
        "    zip_ref.extractall(extract_folder)\n",
        "\n",
        "print(\"File estratti:\", os.listdir(extract_folder))\n"
      ],
      "metadata": {
        "colab": {
          "base_uri": "https://localhost:8080/"
        },
        "id": "Kuw_6Gfr0fAK",
        "outputId": "331430c1-10c5-487d-f371-5364c8435dc4"
      },
      "execution_count": 3,
      "outputs": [
        {
          "output_type": "stream",
          "name": "stdout",
          "text": [
            "File estratti: ['oasis 1', '__MACOSX']\n"
          ]
        }
      ]
    },
    {
      "cell_type": "code",
      "source": [
        "oasis1_path = os.path.join(extract_folder, \"oasis 1\")\n",
        "print(os.listdir(oasis1_path))"
      ],
      "metadata": {
        "colab": {
          "base_uri": "https://localhost:8080/"
        },
        "id": "od808tsK8W28",
        "outputId": "930a9890-af74-4bf1-a90b-54fd6afdba19"
      },
      "execution_count": 4,
      "outputs": [
        {
          "output_type": "stream",
          "name": "stdout",
          "text": [
            "['Very Mild Dementia', 'Moderate Dementia', 'Non Demented', 'Mild Dementia', '.DS_Store']\n"
          ]
        }
      ]
    },
    {
      "cell_type": "code",
      "source": [
        "category_path = os.path.join(oasis1_path, \"Moderate Dementia\")\n",
        "print(os.listdir(category_path))"
      ],
      "metadata": {
        "colab": {
          "base_uri": "https://localhost:8080/"
        },
        "id": "ciPWiryr9KLY",
        "outputId": "8fc97d0e-11b8-43e6-b841-495b72c15ba7"
      },
      "execution_count": 7,
      "outputs": [
        {
          "output_type": "stream",
          "name": "stdout",
          "text": [
            "['mri scan', 'mri segmented', '.DS_Store']\n"
          ]
        }
      ]
    },
    {
      "cell_type": "code",
      "source": [
        "mri_path= os.path.join(category_path, \"mri scan\")\n",
        "print(os.listdir(mri_path))"
      ],
      "metadata": {
        "colab": {
          "base_uri": "https://localhost:8080/"
        },
        "id": "miGyC_EU9bm9",
        "outputId": "a34171fe-b82c-4f1a-9b6b-ce202e6e4a29"
      },
      "execution_count": 8,
      "outputs": [
        {
          "output_type": "stream",
          "name": "stdout",
          "text": [
            "['OAS1_0351MR1 ', 'OAS1_0308MR1 ']\n"
          ]
        }
      ]
    },
    {
      "cell_type": "code",
      "source": [
        "# numero di immagini per categoria\n",
        "dementia_categories = ['Moderate Dementia', 'Mild Dementia', 'Very Mild Dementia', 'Non Demented']\n",
        "somma=0\n",
        "\n",
        "for category in dementia_categories:\n",
        "    category_path = os.path.join(oasis1_path, category)\n",
        "    mri_path= os.path.join(category_path, 'mri scan')\n",
        "    for patient in os.listdir(mri_path):\n",
        "      if patient == \".DS_Store\":\n",
        "        continue\n",
        "      images= os.listdir(os.path.join(mri_path, patient))\n",
        "      somma=somma+len(images)\n",
        "    print(f\"{category}: {somma} immagini mri \")\n",
        "    somma=0\n",
        "\n",
        "for category in dementia_categories:\n",
        "    category_path = os.path.join(oasis1_path, category)\n",
        "    mri_segmented_path=os.path.join(category_path, 'mri segmented')\n",
        "    for patient in os.listdir(mri_segmented_path):\n",
        "      if patient == \".DS_Store\":\n",
        "        continue\n",
        "      images= os.listdir(os.path.join(mri_segmented_path, patient))\n",
        "      somma=somma+len(images)\n",
        "    print(f\"{category}: {somma} immagini mri segmentate\")\n",
        "    somma=0"
      ],
      "metadata": {
        "colab": {
          "base_uri": "https://localhost:8080/"
        },
        "id": "NjW4NPYD0-J8",
        "outputId": "1b6a18ee-8ae6-45bd-e4f0-07103fe39201"
      },
      "execution_count": 15,
      "outputs": [
        {
          "output_type": "stream",
          "name": "stdout",
          "text": [
            "Moderate Dementia: 140 immagini mri \n",
            "Mild Dementia: 1960 immagini mri \n",
            "Very Mild Dementia: 5006 immagini mri \n",
            "Non Demented: 23839 immagini mri \n",
            "Moderate Dementia: 140 immagini mri segmentate\n",
            "Mild Dementia: 1960 immagini mri segmentate\n",
            "Very Mild Dementia: 5006 immagini mri segmentate\n",
            "Non Demented: 23838 immagini mri segmentate\n"
          ]
        }
      ]
    }
  ]
}