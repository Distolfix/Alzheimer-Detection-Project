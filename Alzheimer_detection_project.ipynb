{
  "nbformat": 4,
  "nbformat_minor": 0,
  "metadata": {
    "colab": {
      "provenance": [],
      "authorship_tag": "ABX9TyNSQxQrBNk3ZeI+jLsd3+pH"
    },
    "kernelspec": {
      "name": "python3",
      "display_name": "Python 3"
    },
    "language_info": {
      "name": "python"
    }
  },
  "cells": [
    {
      "cell_type": "code",
      "source": [
        "from google.colab import drive\n",
        "drive.mount('/content/drive')"
      ],
      "metadata": {
        "colab": {
          "base_uri": "https://localhost:8080/"
        },
        "id": "ZCsYyrerwr_M",
        "outputId": "38667368-8f77-4b79-885e-bac7bc73b921"
      },
      "execution_count": 39,
      "outputs": [
        {
          "output_type": "stream",
          "name": "stdout",
          "text": [
            "Drive already mounted at /content/drive; to attempt to forcibly remount, call drive.mount(\"/content/drive\", force_remount=True).\n"
          ]
        }
      ]
    },
    {
      "cell_type": "markdown",
      "source": [
        "# **SUI DATASET**\n",
        "\n",
        "Entrambi i dataset sono versioni pre-processate del dataset **OASIS Alzheimer's Detection** (un dataset di immagini MRI del cervello di 461 pazienti ognuno dei quali ha tre scansioni MRI) utilizzato per rilevare i segni precoci dell’Alzheimer.\n",
        "\n",
        "Poiché le immagini MRI sono 3D, sono state divise lungo l'asse z (l'asse della profondità del cervello) in 256 fette e sono state selezionate le fette che vanno dalla 100 esima alla 160 esima al fine di ridurre il numero di immagini e concentrarsi sulle sezioni cerebrali rilevanti per l'analisi della demenza; Questo approccio ha generato immagini 2D per ogni paziente.\n",
        "\n",
        "\n",
        "****\n",
        "\n",
        "Le immagini sono classificate in **quattro sottoclassi**, in base alla progressione della malattia:\n",
        "\n",
        "*   Moderate dementia (affetto da demenza)\n",
        "\n",
        "*   Very mild dementia (affetto da demenza molto lieve)\n",
        "* Mild dementia (affetto da demenza lieve)\n",
        "* Non-demented (non affetto da demenza)\n",
        "\n",
        "\n",
        "*La classificazione dei pazienti è stata effettuata sulla base delle valutazioni CDR (Clinical Dementia Rating), un punteggio che valuta la severità della demenza.*\n"
      ],
      "metadata": {
        "id": "zYlWqrb12XR7"
      }
    },
    {
      "cell_type": "code",
      "source": [
        "#estrazione db 1\n",
        "import zipfile\n",
        "import os\n",
        "\n",
        "zip_path = \"/content/drive/My Drive/Alzheimer-detection-project/oasis ds.zip\"\n",
        "extract_folder = \"/content/Alzheimer-detection-project\"\n",
        "\n",
        "os.makedirs(extract_folder, exist_ok=True)\n",
        "with zipfile.ZipFile(zip_path, 'r') as zip_ref:\n",
        "    zip_ref.extractall(extract_folder)\n",
        "\n",
        "print(\"File estratti:\", os.listdir(extract_folder))\n"
      ],
      "metadata": {
        "colab": {
          "base_uri": "https://localhost:8080/"
        },
        "id": "Kuw_6Gfr0fAK",
        "outputId": "030d0c1d-e2d8-4aa2-ae9e-4d53f96b5747"
      },
      "execution_count": 40,
      "outputs": [
        {
          "output_type": "stream",
          "name": "stdout",
          "text": [
            "File estratti: ['oasis ds', '__MACOSX', 'archive']\n"
          ]
        }
      ]
    },
    {
      "cell_type": "code",
      "source": [
        "# numero di immagini per categoria db 1\n",
        "dementia_categories = ['Moderate Dementia', 'Mild Dementia', 'Very mild Dementia', 'Non Demented']\n",
        "base_path = os.path.join(extract_folder, 'oasis ds')\n",
        "\n",
        "\n",
        "for category in dementia_categories:\n",
        "    category_path = os.path.join(base_path, category)\n",
        "    images = os.listdir(category_path)\n",
        "    print(f\"{category}: {len(images)} immagini\")\n"
      ],
      "metadata": {
        "colab": {
          "base_uri": "https://localhost:8080/"
        },
        "id": "NjW4NPYD0-J8",
        "outputId": "b1810b8d-d11f-4d97-8498-97ee02c5d98b"
      },
      "execution_count": 33,
      "outputs": [
        {
          "output_type": "stream",
          "name": "stdout",
          "text": [
            "Moderate Dementia: 98 immagini\n",
            "Mild Dementia: 1001 immagini\n",
            "Very mild Dementia: 2745 immagini\n",
            "Non Demented: 13445 immagini\n"
          ]
        }
      ]
    },
    {
      "cell_type": "code",
      "source": [
        "#estrazione db 2\n",
        "zip_path = \"/content/drive/My Drive/Alzheimer-detection-project/archive.zip\"\n",
        "extract_folder = \"/content/Alzheimer-detection-project\"\n",
        "\n",
        "os.makedirs(extract_folder, exist_ok=True)\n",
        "with zipfile.ZipFile(zip_path, 'r') as zip_ref:\n",
        "    zip_ref.extractall(extract_folder)\n",
        "\n",
        "print(\"File estratti:\", os.listdir(extract_folder))\n"
      ],
      "metadata": {
        "colab": {
          "base_uri": "https://localhost:8080/"
        },
        "id": "A5tsC75-N_VX",
        "outputId": "9c5b22b4-f9de-4bf0-a9cc-a5ca62265104"
      },
      "execution_count": 42,
      "outputs": [
        {
          "output_type": "stream",
          "name": "stdout",
          "text": [
            "File estratti: ['oasis ds', '__MACOSX', 'archive']\n"
          ]
        }
      ]
    },
    {
      "cell_type": "code",
      "source": [
        "# numero di immagini per categoria db 2\n",
        "dementia_categories = ['Moderate Dementia', 'Mild Dementia', 'Very mild Dementia', 'Non Demented']\n",
        "base_path = os.path.join(extract_folder, 'archive')\n",
        "\n",
        "\n",
        "for category in dementia_categories:\n",
        "    category_path = os.path.join(base_path, category)\n",
        "    images = os.listdir(category_path)\n",
        "    print(f\"{category}: {len(images)} immagini\")\n"
      ],
      "metadata": {
        "colab": {
          "base_uri": "https://localhost:8080/"
        },
        "id": "UdjyUKf8-t2H",
        "outputId": "e5d6310e-6870-46f5-ebec-a2195064ec55"
      },
      "execution_count": 36,
      "outputs": [
        {
          "output_type": "stream",
          "name": "stdout",
          "text": [
            "Moderate Dementia: 376 immagini\n",
            "Mild Dementia: 5184 immagini\n",
            "Very mild Dementia: 13797 immagini\n",
            "Non Demented: 63560 immagini\n"
          ]
        }
      ]
    }
  ]
}